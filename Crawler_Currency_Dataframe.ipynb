{
 "cells": [
  {
   "cell_type": "code",
   "execution_count": 1,
   "metadata": {},
   "outputs": [],
   "source": [
    "from selenium import webdriver\n",
    "from selenium.webdriver.support.ui import Select\n",
    "import matplotlib.pyplot as plt\n",
    "import matplotlib.dates as mdates\n",
    "import pandas as pd\n",
    "import numpy as np\n",
    "import csv\n",
    "import os\n",
    "import sys\n",
    "import time"
   ]
  },
  {
   "cell_type": "code",
   "execution_count": 2,
   "metadata": {},
   "outputs": [],
   "source": [
    "pd.set_option(\"display.max_rows\",400)"
   ]
  },
  {
   "cell_type": "code",
   "execution_count": 3,
   "metadata": {},
   "outputs": [],
   "source": [
    "driver = webdriver.Chrome('./chromedriver')"
   ]
  },
  {
   "cell_type": "markdown",
   "metadata": {},
   "source": [
    "### 幣種選擇\n",
    "* 人民幣(CNY)\n",
    "* 美元(USD)\n",
    "* 澳幣(AUD)\n",
    "* 南非幣(ZAR)\n",
    "* 紐西蘭幣(NZD)\n",
    "* 歐元(EUR)\n",
    "* 港幣(HKD)\n",
    "* 日圓(JPY)\n",
    "* 墨西哥披索(MXN)\n",
    "* 加幣(CAD)\n",
    "* 瑞士法郎(CHF)\n",
    "* 英鎊(GBP)\n",
    "* 瑞典幣(SEK)\n",
    "* 新加坡幣(SGD)\n",
    "* 泰銖(THB)"
   ]
  },
  {
   "cell_type": "code",
   "execution_count": 4,
   "metadata": {
    "scrolled": true
   },
   "outputs": [
    {
     "name": "stdout",
     "output_type": "stream",
     "text": [
      "Insert currency:\n",
      "Select list as follow\n",
      "人民幣(CNY)\n",
      "美元(USD)\n",
      "澳幣(AUD)\n",
      "南非幣(ZAR)\n",
      "紐西蘭幣(NZD)\n",
      "歐元(EUR) \n",
      "港幣(HKD)\n",
      "日圓(JPY)\n",
      "墨西哥披索(MXN)\n",
      "加幣(CAD)\n",
      "瑞士法郎(CHF)\n",
      "英鎊(GBP) \n",
      "瑞典幣(SEK)\n",
      "新加坡幣(SGD)\n",
      "泰銖(THB)\n",
      "GBP\n"
     ]
    }
   ],
   "source": [
    "print(\"Insert currency:\\nSelect list as follow\\n人民幣(CNY)\\n美元(USD)\\n澳幣(AUD)\\n南非幣(ZAR)\\n紐西蘭幣(NZD)\\n歐元(EUR) \\\n",
    "\\n港幣(HKD)\\n日圓(JPY)\\n墨西哥披索(MXN)\\n加幣(CAD)\\n瑞士法郎(CHF)\\n英鎊(GBP) \\\n",
    "\\n瑞典幣(SEK)\\n新加坡幣(SGD)\\n泰銖(THB)\")\n",
    "currency = str.upper(input())"
   ]
  },
  {
   "cell_type": "markdown",
   "metadata": {},
   "source": [
    "### 即期或現鈔\n",
    "\n",
    "* 即期輸入:spot\n",
    "* 現鈔輸入:cash\n"
   ]
  },
  {
   "cell_type": "code",
   "execution_count": 5,
   "metadata": {
    "scrolled": true
   },
   "outputs": [
    {
     "name": "stdout",
     "output_type": "stream",
     "text": [
      "Insert spot or cash:\n",
      "spot\n"
     ]
    }
   ],
   "source": [
    "print(\"Insert spot or cash:\")\n",
    "rate_type = str.lower(input())"
   ]
  },
  {
   "cell_type": "markdown",
   "metadata": {},
   "source": [
    "### 時間\n",
    "\n",
    "* 當日輸入:Now\n",
    "* 3個月輸入:3Months\n",
    "* 6個月輸入:6Months\n",
    "* 1年輸入:1Year\n"
   ]
  },
  {
   "cell_type": "code",
   "execution_count": 6,
   "metadata": {},
   "outputs": [
    {
     "name": "stdout",
     "output_type": "stream",
     "text": [
      "Insert duration:\n",
      "Select list as follow\n",
      "當日輸入:Now\n",
      "3個月輸入:3Months\n",
      "6個月輸入:6Months\n",
      "1年輸入:1Year\n",
      "3months\n"
     ]
    }
   ],
   "source": [
    "print(\"Insert duration:\\nSelect list as follow\\n當日輸入:Now\\\n",
    "\\n3個月輸入:3Months\\\n",
    "\\n6個月輸入:6Months\\\n",
    "\\n1年輸入:1Year\")\n",
    "duration = str.upper(input())"
   ]
  },
  {
   "cell_type": "code",
   "execution_count": 7,
   "metadata": {},
   "outputs": [],
   "source": [
    "if rate_type == \"spot\":\n",
    "     type_html =\"/html/body/form/div[7]/div[3]/div[4]/div/div[1]/div[1]/div/img[2]\"\n",
    "elif rate_type == \"cash\":\n",
    "     type_html =\"/html/body/form/div[7]/div[3]/div[4]/div/div[1]/div[1]/div/img[1]\""
   ]
  },
  {
   "cell_type": "code",
   "execution_count": 8,
   "metadata": {},
   "outputs": [],
   "source": [
    "if duration == \"NOW\":\n",
    "     duration_html =\"/html/body/form/div[7]/div[3]/div[4]/div/div[1]/div[2]/div[1]/img[1]\"\n",
    "elif duration == \"3MONTHS\":\n",
    "     duration_html =\"/html/body/form/div[7]/div[3]/div[4]/div/div[1]/div[2]/div[1]/img[2]\"\n",
    "elif duration == \"6MONTHS\":\n",
    "     duration_html =\"/html/body/form/div[7]/div[3]/div[4]/div/div[1]/div[2]/div[1]/img[3]\"\n",
    "elif duration == \"1YEAR\":\n",
    "     duration_html =\"/html/body/form/div[7]/div[3]/div[4]/div/div[1]/div[2]/div[1]/img[4]\""
   ]
  },
  {
   "cell_type": "code",
   "execution_count": 9,
   "metadata": {},
   "outputs": [],
   "source": [
    "# Data page\n",
    "driver.get(\"https://www.esunbank.com.tw/bank/personal/deposit/rate/forex/exchange-rate-chart\")\n",
    "\n",
    "time.sleep(1)"
   ]
  },
  {
   "cell_type": "code",
   "execution_count": 10,
   "metadata": {},
   "outputs": [],
   "source": [
    "# Select the currency \n",
    "select_currency_arrow = driver.find_element_by_xpath(\"/html/body/form/div[7]/div[3]/div[4]/div/div[1]/div[1]/ul/li/span\")\n",
    "select_currency_arrow.click()\n",
    "\n",
    "# Select the currency\n",
    "select_currency = driver.find_elements_by_css_selector(\".transformSelectDropdown li span\")\n",
    "for i in select_currency:\n",
    "    if currency in i.text:\n",
    "        i.click()\n",
    "        break\n",
    "\n",
    "time.sleep(1)"
   ]
  },
  {
   "cell_type": "code",
   "execution_count": 11,
   "metadata": {},
   "outputs": [],
   "source": [
    "# Select Spot or Cash\n",
    "currency_type = driver.find_element_by_xpath(type_html)\n",
    "currency_type.click()\n",
    "\n",
    "time.sleep(1)"
   ]
  },
  {
   "cell_type": "code",
   "execution_count": 12,
   "metadata": {},
   "outputs": [],
   "source": [
    "# Select the duration\n",
    "currency_duration = driver.find_element_by_xpath(duration_html)\n",
    "currency_duration.click()\n",
    "\n",
    "time.sleep(1)"
   ]
  },
  {
   "cell_type": "code",
   "execution_count": 13,
   "metadata": {},
   "outputs": [],
   "source": [
    "# Select data type\n",
    "data_type = driver.find_element_by_xpath(\"/html/body/form/div[7]/div[3]/div[4]/div/div[1]/div[3]/div/label[2]\")\n",
    "data_type.click()\n",
    "\n",
    "time.sleep(1)"
   ]
  },
  {
   "cell_type": "code",
   "execution_count": 14,
   "metadata": {},
   "outputs": [],
   "source": [
    "# Click search button\n",
    "search_button = driver.find_element_by_xpath('/html/body/form/div[7]/div[3]/div[4]/div/div[1]/div[4]/a')\n",
    "search_button.click()\n",
    "\n",
    "time.sleep(1)"
   ]
  },
  {
   "cell_type": "code",
   "execution_count": 15,
   "metadata": {},
   "outputs": [],
   "source": [
    "df = pd.DataFrame(columns=[\"Date\", \"Bid_Rate\", \"Offer_Rate\"])\n",
    "pages = True\n",
    "\n",
    "while pages:\n",
    "    items = driver.find_elements_by_css_selector(\"#inteTable tbody tr\")\n",
    "\n",
    "    for item in items:\n",
    "        tds = item.find_elements_by_css_selector(\"td\")\n",
    "\n",
    "        if tds[0].get_attribute(\"class\") != \"itemTtitle\":\n",
    "            continue\n",
    "\n",
    "        df = df.append({\n",
    "                    \"Date\": tds[0].text,\n",
    "                    \"Bid_Rate\":  tds[1].text,\n",
    "                    \"Offer_Rate\":  tds[2].text\n",
    "                    }, ignore_index=True)\n",
    "\n",
    "    nextBtn = driver.find_element_by_css_selector(\".pageNumberBlock .down\")\n",
    "    if \"active\" in nextBtn.get_attribute(\"class\"):\n",
    "        nextBtn.click()\n",
    "    else:\n",
    "        pages = False\n",
    "\n",
    "time.sleep(4)"
   ]
  },
  {
   "cell_type": "code",
   "execution_count": 16,
   "metadata": {},
   "outputs": [],
   "source": [
    "# Close the browser\n",
    "driver.quit()"
   ]
  },
  {
   "cell_type": "code",
   "execution_count": 17,
   "metadata": {},
   "outputs": [],
   "source": [
    "df[\"Offer_Rate\"] = df[\"Offer_Rate\"].astype(float)\n",
    "df[\"Bid_Rate\"] = df[\"Bid_Rate\"].astype(float)"
   ]
  },
  {
   "cell_type": "code",
   "execution_count": 25,
   "metadata": {},
   "outputs": [],
   "source": [
    "df_min = df[df.Offer_Rate == df.Offer_Rate.min()]\n",
    "df_max = df[df.Offer_Rate == df.Offer_Rate.max()]"
   ]
  },
  {
   "cell_type": "code",
   "execution_count": 26,
   "metadata": {
    "scrolled": false
   },
   "outputs": [
    {
     "name": "stdout",
     "output_type": "stream",
     "text": [
      "          Date  Bid_Rate  Offer_Rate\n",
      "0   2020-01-20     38.72       39.12\n",
      "1   2020-01-21     38.99       39.39\n",
      "2   2020-01-22     39.20       39.60\n",
      "3   2020-01-30     39.40       39.80\n",
      "4   2020-01-31     39.51       39.91\n",
      "5   2020-02-03     39.25       39.65\n",
      "6   2020-02-04     39.05       39.45\n",
      "7   2020-02-05     38.84       39.24\n",
      "8   2020-02-06     38.71       39.11\n",
      "9   2020-02-07     38.80       39.20\n",
      "10  2020-02-10     38.67       39.07\n",
      "11  2020-02-11     38.75       39.15\n",
      "12  2020-02-12     38.69       39.09\n",
      "13  2020-02-13     38.91       39.31\n",
      "14  2020-02-14     38.89       39.29\n",
      "15  2020-02-15     38.94       39.34\n",
      "16  2020-02-17     38.84       39.24\n",
      "17  2020-02-18     39.03       39.43\n",
      "18  2020-02-19     38.83       39.23\n",
      "19  2020-02-20     38.74       39.14\n",
      "20  2020-02-21     39.16       39.56\n",
      "21  2020-02-24     39.14       39.54\n",
      "22  2020-02-25     39.20       39.60\n",
      "23  2020-02-26     39.06       39.46\n",
      "24  2020-02-27     38.79       39.19\n",
      "25  2020-03-02     38.26       38.66\n",
      "26  2020-03-03     38.20       38.60\n",
      "27  2020-03-04     38.28       38.68\n",
      "28  2020-03-05     38.46       38.86\n",
      "29  2020-03-06     38.88       39.28\n",
      "30  2020-03-09     39.31       39.71\n",
      "31  2020-03-10     38.82       39.22\n",
      "32  2020-03-11     38.69       39.09\n",
      "33  2020-03-12     37.80       38.20\n",
      "34  2020-03-13     37.55       37.95\n",
      "35  2020-03-16     36.86       37.26\n",
      "36  2020-03-17     36.24       36.64\n",
      "37  2020-03-18     35.45       35.85\n",
      "38  2020-03-19     35.46       35.86\n",
      "39  2020-03-20     35.72       36.12\n",
      "40  2020-03-23     35.10       35.50\n",
      "41  2020-03-24     35.26       35.66\n",
      "42  2020-03-25     35.24       35.64\n",
      "43  2020-03-26     36.30       36.70\n",
      "44  2020-03-27     36.95       37.35\n",
      "45  2020-03-30     37.30       37.70\n",
      "46  2020-03-31     37.29       37.69\n",
      "47  2020-04-01     37.40       37.80\n",
      "48  2020-04-06     36.76       37.16\n",
      "49  2020-04-07     36.83       37.23\n",
      "50  2020-04-08     37.10       37.50\n",
      "51  2020-04-09     37.32       37.72\n",
      "52  2020-04-10     37.32       37.72\n",
      "53  2020-04-13     37.40       37.80\n",
      "54  2020-04-14     37.63       38.03\n",
      "55  2020-04-15     37.35       37.75\n",
      "56  2020-04-16     37.22       37.62\n",
      "57  2020-04-17     37.41       37.81\n",
      "\n",
      "Bid rate average in 3months : 37.95\n",
      "Offer rate average in 3months : 38.35\n",
      "\n",
      "The lowest price :\n",
      "       Date  Bid_Rate  Offer_Rate\n",
      " 2020-03-23      35.1        35.5\n",
      "\n",
      "The highest price :\n",
      "       Date  Bid_Rate  Offer_Rate\n",
      " 2020-01-31     39.51       39.91\n",
      "\n"
     ]
    }
   ],
   "source": [
    "print(df)\n",
    "print(\"\")\n",
    "print('Bid rate average in {} : {}'.format(str.lower(duration),round(df[\"Bid_Rate\"].mean(),2)))\n",
    "print('Offer rate average in {} : {}'.format(str.lower(duration),round(df[\"Offer_Rate\"].mean(),2)))\n",
    "print(\"\")\n",
    "print(\"The lowest price :\")\n",
    "print(df_min.to_string(index=False))\n",
    "print(\"\")\n",
    "print(\"The highest price :\")\n",
    "print(df_max.to_string(index=False))\n",
    "print(\"\")"
   ]
  }
 ],
 "metadata": {
  "kernelspec": {
   "display_name": "venv",
   "language": "python",
   "name": "venv"
  },
  "language_info": {
   "codemirror_mode": {
    "name": "ipython",
    "version": 3
   },
   "file_extension": ".py",
   "mimetype": "text/x-python",
   "name": "python",
   "nbconvert_exporter": "python",
   "pygments_lexer": "ipython3",
   "version": "3.7.7"
  }
 },
 "nbformat": 4,
 "nbformat_minor": 4
}
