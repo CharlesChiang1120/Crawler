{
 "cells": [
  {
   "cell_type": "code",
   "execution_count": 1,
   "metadata": {},
   "outputs": [],
   "source": [
    "from selenium import webdriver\n",
    "from selenium.webdriver.support.ui import Select\n",
    "import pandas as pd\n",
    "import numpy as np\n",
    "import csv\n",
    "import os\n",
    "import sys\n",
    "import time"
   ]
  },
  {
   "cell_type": "code",
   "execution_count": 2,
   "metadata": {},
   "outputs": [],
   "source": [
    "driver = webdriver.Chrome('./chromedriver')"
   ]
  },
  {
   "cell_type": "markdown",
   "metadata": {},
   "source": [
    "### 幣種選擇\n",
    "* 人民幣(CNY)\n",
    "* 美元(USD)\n",
    "* 澳幣(AUD)\n",
    "* 南非幣(ZAR)\n",
    "* 紐西蘭幣(NZD)\n",
    "* 歐元(EUR)\n",
    "* 港幣(HKD)\n",
    "* 日圓(JPY)\n",
    "* 墨西哥披索(MXN)\n",
    "* 加幣(CAD)\n",
    "* 瑞士法郎(CHF)\n",
    "* 英鎊(GBP)\n",
    "* 瑞典幣(SEK)\n",
    "* 新加坡幣(SGD)\n",
    "* 泰銖(THB)"
   ]
  },
  {
   "cell_type": "code",
   "execution_count": 3,
   "metadata": {
    "scrolled": true
   },
   "outputs": [
    {
     "name": "stdout",
     "output_type": "stream",
     "text": [
      "USD\n"
     ]
    }
   ],
   "source": [
    "currency = str.upper(input())"
   ]
  },
  {
   "cell_type": "markdown",
   "metadata": {},
   "source": [
    "### 即期或現鈔\n",
    "\n",
    "* 即期輸入:spot\n",
    "* 現鈔輸入:cash\n"
   ]
  },
  {
   "cell_type": "code",
   "execution_count": 4,
   "metadata": {
    "scrolled": true
   },
   "outputs": [
    {
     "name": "stdout",
     "output_type": "stream",
     "text": [
      "SPOT\n"
     ]
    }
   ],
   "source": [
    "rate_type = str.lower(input())"
   ]
  },
  {
   "cell_type": "markdown",
   "metadata": {},
   "source": [
    "### 時間\n",
    "\n",
    "* 當日輸入:Now\n",
    "* 3個月輸入:3Months\n",
    "* 6個月輸入:6Months\n",
    "* 1年輸入:1Year\n"
   ]
  },
  {
   "cell_type": "code",
   "execution_count": 5,
   "metadata": {},
   "outputs": [
    {
     "name": "stdout",
     "output_type": "stream",
     "text": [
      "1YEAR\n"
     ]
    }
   ],
   "source": [
    "duration = str.upper(input())"
   ]
  },
  {
   "cell_type": "code",
   "execution_count": 6,
   "metadata": {},
   "outputs": [],
   "source": [
    "if rate_type == \"spot\":\n",
    "     type_html =\"/html/body/form/div[7]/div[3]/div[4]/div/div[1]/div[1]/div/img[2]\"\n",
    "elif rate_type == \"cash\":\n",
    "     type_html =\"/html/body/form/div[7]/div[3]/div[4]/div/div[1]/div[1]/div/img[1]\""
   ]
  },
  {
   "cell_type": "code",
   "execution_count": 7,
   "metadata": {},
   "outputs": [],
   "source": [
    "if duration == \"NOW\":\n",
    "     duration_html =\"/html/body/form/div[7]/div[3]/div[4]/div/div[1]/div[2]/div[1]/img[1]\"\n",
    "elif duration == \"3MONTHS\":\n",
    "     duration_html =\"/html/body/form/div[7]/div[3]/div[4]/div/div[1]/div[2]/div[1]/img[2]\"\n",
    "elif duration == \"6MONTHS\":\n",
    "     duration_html =\"/html/body/form/div[7]/div[3]/div[4]/div/div[1]/div[2]/div[1]/img[3]\"\n",
    "elif duration == \"1YEAR\":\n",
    "     duration_html =\"/html/body/form/div[7]/div[3]/div[4]/div/div[1]/div[2]/div[1]/img[4]\""
   ]
  },
  {
   "cell_type": "code",
   "execution_count": 8,
   "metadata": {},
   "outputs": [],
   "source": [
    "# Data page\n",
    "driver.get(\"https://www.esunbank.com.tw/bank/personal/deposit/rate/forex/exchange-rate-chart\")\n",
    "\n",
    "time.sleep(1)"
   ]
  },
  {
   "cell_type": "code",
   "execution_count": 9,
   "metadata": {},
   "outputs": [],
   "source": [
    "# Select the currency \n",
    "select_currency_arrow = driver.find_element_by_xpath(\"/html/body/form/div[7]/div[3]/div[4]/div/div[1]/div[1]/ul/li/span\")\n",
    "select_currency_arrow.click()\n",
    "\n",
    "# Select the currency\n",
    "select_currency = driver.find_elements_by_css_selector(\".transformSelectDropdown li span\")\n",
    "for i in select_currency:\n",
    "    if currency in i.text:\n",
    "        i.click()\n",
    "        break\n",
    "\n",
    "time.sleep(1)"
   ]
  },
  {
   "cell_type": "code",
   "execution_count": 10,
   "metadata": {},
   "outputs": [],
   "source": [
    "# Select Spot or Cash\n",
    "currency_type = driver.find_element_by_xpath(type_html)\n",
    "currency_type.click()\n",
    "\n",
    "time.sleep(1)"
   ]
  },
  {
   "cell_type": "code",
   "execution_count": 11,
   "metadata": {},
   "outputs": [],
   "source": [
    "# Select the duration\n",
    "currency_duration = driver.find_element_by_xpath(duration_html)\n",
    "currency_duration.click()\n",
    "\n",
    "time.sleep(1)"
   ]
  },
  {
   "cell_type": "code",
   "execution_count": 12,
   "metadata": {},
   "outputs": [],
   "source": [
    "# Select data type\n",
    "data_type = driver.find_element_by_xpath(\"/html/body/form/div[7]/div[3]/div[4]/div/div[1]/div[3]/div/label[2]\")\n",
    "data_type.click()\n",
    "\n",
    "time.sleep(1)"
   ]
  },
  {
   "cell_type": "code",
   "execution_count": 13,
   "metadata": {},
   "outputs": [],
   "source": [
    "# Click search button\n",
    "search_button = driver.find_element_by_xpath('/html/body/form/div[7]/div[3]/div[4]/div/div[1]/div[4]/a')\n",
    "search_button.click()\n",
    "\n",
    "time.sleep(1)"
   ]
  },
  {
   "cell_type": "code",
   "execution_count": 14,
   "metadata": {},
   "outputs": [],
   "source": [
    "df = pd.DataFrame(columns=[\"Date\", \"Bid_Rate\", \"Offer_Rate\"])\n",
    "pages = True\n",
    "\n",
    "while pages:\n",
    "    items = driver.find_elements_by_css_selector(\"#inteTable tbody tr\")\n",
    "\n",
    "    for item in items:\n",
    "        tds = item.find_elements_by_css_selector(\"td\")\n",
    "\n",
    "        if tds[0].get_attribute(\"class\") != \"itemTtitle\":\n",
    "            continue\n",
    "\n",
    "        df = df.append({\n",
    "                    \"Date\": tds[0].text,\n",
    "                    \"Bid_Rate\":  tds[1].text,\n",
    "                    \"Offer_Rate\":  tds[2].text\n",
    "                    }, ignore_index=True)\n",
    "\n",
    "    nextBtn = driver.find_element_by_css_selector(\".pageNumberBlock .down\")\n",
    "    if \"active\" in nextBtn.get_attribute(\"class\"):\n",
    "        nextBtn.click()\n",
    "    else:\n",
    "        pages = False\n",
    "\n",
    "time.sleep(4)"
   ]
  },
  {
   "cell_type": "code",
   "execution_count": 15,
   "metadata": {},
   "outputs": [],
   "source": [
    "# Close the browser\n",
    "driver.quit()"
   ]
  },
  {
   "cell_type": "code",
   "execution_count": 16,
   "metadata": {},
   "outputs": [
    {
     "data": {
      "text/html": [
       "<div>\n",
       "<style scoped>\n",
       "    .dataframe tbody tr th:only-of-type {\n",
       "        vertical-align: middle;\n",
       "    }\n",
       "\n",
       "    .dataframe tbody tr th {\n",
       "        vertical-align: top;\n",
       "    }\n",
       "\n",
       "    .dataframe thead th {\n",
       "        text-align: right;\n",
       "    }\n",
       "</style>\n",
       "<table border=\"1\" class=\"dataframe\">\n",
       "  <thead>\n",
       "    <tr style=\"text-align: right;\">\n",
       "      <th></th>\n",
       "      <th>Date</th>\n",
       "      <th>Bid_Rate</th>\n",
       "      <th>Offer_Rate</th>\n",
       "    </tr>\n",
       "  </thead>\n",
       "  <tbody>\n",
       "    <tr>\n",
       "      <th>0</th>\n",
       "      <td>2019-04-17</td>\n",
       "      <td>30.8</td>\n",
       "      <td>30.9</td>\n",
       "    </tr>\n",
       "    <tr>\n",
       "      <th>1</th>\n",
       "      <td>2019-04-18</td>\n",
       "      <td>30.79</td>\n",
       "      <td>30.89</td>\n",
       "    </tr>\n",
       "    <tr>\n",
       "      <th>2</th>\n",
       "      <td>2019-04-19</td>\n",
       "      <td>30.78</td>\n",
       "      <td>30.88</td>\n",
       "    </tr>\n",
       "    <tr>\n",
       "      <th>3</th>\n",
       "      <td>2019-04-22</td>\n",
       "      <td>30.81</td>\n",
       "      <td>30.91</td>\n",
       "    </tr>\n",
       "    <tr>\n",
       "      <th>4</th>\n",
       "      <td>2019-04-23</td>\n",
       "      <td>30.81</td>\n",
       "      <td>30.91</td>\n",
       "    </tr>\n",
       "    <tr>\n",
       "      <th>...</th>\n",
       "      <td>...</td>\n",
       "      <td>...</td>\n",
       "      <td>...</td>\n",
       "    </tr>\n",
       "    <tr>\n",
       "      <th>245</th>\n",
       "      <td>2020-04-10</td>\n",
       "      <td>30.03</td>\n",
       "      <td>30.13</td>\n",
       "    </tr>\n",
       "    <tr>\n",
       "      <th>246</th>\n",
       "      <td>2020-04-13</td>\n",
       "      <td>30.02</td>\n",
       "      <td>30.12</td>\n",
       "    </tr>\n",
       "    <tr>\n",
       "      <th>247</th>\n",
       "      <td>2020-04-14</td>\n",
       "      <td>29.98</td>\n",
       "      <td>30.08</td>\n",
       "    </tr>\n",
       "    <tr>\n",
       "      <th>248</th>\n",
       "      <td>2020-04-15</td>\n",
       "      <td>30</td>\n",
       "      <td>30.1</td>\n",
       "    </tr>\n",
       "    <tr>\n",
       "      <th>249</th>\n",
       "      <td>2020-04-16</td>\n",
       "      <td>30.01</td>\n",
       "      <td>30.11</td>\n",
       "    </tr>\n",
       "  </tbody>\n",
       "</table>\n",
       "<p>250 rows × 3 columns</p>\n",
       "</div>"
      ],
      "text/plain": [
       "           Date Bid_Rate Offer_Rate\n",
       "0    2019-04-17     30.8       30.9\n",
       "1    2019-04-18    30.79      30.89\n",
       "2    2019-04-19    30.78      30.88\n",
       "3    2019-04-22    30.81      30.91\n",
       "4    2019-04-23    30.81      30.91\n",
       "..          ...      ...        ...\n",
       "245  2020-04-10    30.03      30.13\n",
       "246  2020-04-13    30.02      30.12\n",
       "247  2020-04-14    29.98      30.08\n",
       "248  2020-04-15       30       30.1\n",
       "249  2020-04-16    30.01      30.11\n",
       "\n",
       "[250 rows x 3 columns]"
      ]
     },
     "execution_count": 16,
     "metadata": {},
     "output_type": "execute_result"
    }
   ],
   "source": [
    "df"
   ]
  },
  {
   "cell_type": "code",
   "execution_count": 17,
   "metadata": {},
   "outputs": [
    {
     "data": {
      "text/html": [
       "<div>\n",
       "<style scoped>\n",
       "    .dataframe tbody tr th:only-of-type {\n",
       "        vertical-align: middle;\n",
       "    }\n",
       "\n",
       "    .dataframe tbody tr th {\n",
       "        vertical-align: top;\n",
       "    }\n",
       "\n",
       "    .dataframe thead th {\n",
       "        text-align: right;\n",
       "    }\n",
       "</style>\n",
       "<table border=\"1\" class=\"dataframe\">\n",
       "  <thead>\n",
       "    <tr style=\"text-align: right;\">\n",
       "      <th></th>\n",
       "      <th>Date</th>\n",
       "      <th>Bid_Rate</th>\n",
       "      <th>Offer_Rate</th>\n",
       "    </tr>\n",
       "  </thead>\n",
       "  <tbody>\n",
       "    <tr>\n",
       "      <th>189</th>\n",
       "      <td>2020-01-14</td>\n",
       "      <td>29.85</td>\n",
       "      <td>29.95</td>\n",
       "    </tr>\n",
       "  </tbody>\n",
       "</table>\n",
       "</div>"
      ],
      "text/plain": [
       "           Date Bid_Rate Offer_Rate\n",
       "189  2020-01-14    29.85      29.95"
      ]
     },
     "execution_count": 17,
     "metadata": {},
     "output_type": "execute_result"
    }
   ],
   "source": [
    "df[df.Offer_Rate == df.Offer_Rate.min()]"
   ]
  }
 ],
 "metadata": {
  "kernelspec": {
   "display_name": "venv",
   "language": "python",
   "name": "venv"
  },
  "language_info": {
   "codemirror_mode": {
    "name": "ipython",
    "version": 3
   },
   "file_extension": ".py",
   "mimetype": "text/x-python",
   "name": "python",
   "nbconvert_exporter": "python",
   "pygments_lexer": "ipython3",
   "version": "3.7.7"
  }
 },
 "nbformat": 4,
 "nbformat_minor": 4
}
