{
 "cells": [
  {
   "cell_type": "code",
   "execution_count": 1,
   "metadata": {},
   "outputs": [],
   "source": [
    "from selenium import webdriver\n",
    "from selenium.webdriver.support.ui import Select\n",
    "import matplotlib.pyplot as plt\n",
    "import matplotlib.dates as mdates\n",
    "import pandas as pd\n",
    "import numpy as np\n",
    "import csv\n",
    "import os\n",
    "import sys\n",
    "import time"
   ]
  },
  {
   "cell_type": "code",
   "execution_count": 2,
   "metadata": {},
   "outputs": [],
   "source": [
    "pd.set_option(\"display.max_rows\",400)"
   ]
  },
  {
   "cell_type": "code",
   "execution_count": 3,
   "metadata": {},
   "outputs": [],
   "source": [
    "driver = webdriver.Chrome('./chromedriver')"
   ]
  },
  {
   "cell_type": "markdown",
   "metadata": {},
   "source": [
    "### 幣種選擇\n",
    "* 人民幣(CNY)\n",
    "* 美元(USD)\n",
    "* 澳幣(AUD)\n",
    "* 南非幣(ZAR)\n",
    "* 紐西蘭幣(NZD)\n",
    "* 歐元(EUR)\n",
    "* 港幣(HKD)\n",
    "* 日圓(JPY)\n",
    "* 墨西哥披索(MXN)\n",
    "* 加幣(CAD)\n",
    "* 瑞士法郎(CHF)\n",
    "* 英鎊(GBP)\n",
    "* 瑞典幣(SEK)\n",
    "* 新加坡幣(SGD)\n",
    "* 泰銖(THB)"
   ]
  },
  {
   "cell_type": "code",
   "execution_count": 4,
   "metadata": {
    "scrolled": true
   },
   "outputs": [
    {
     "name": "stdout",
     "output_type": "stream",
     "text": [
      "Insert currency:\n",
      "Select list as follow\n",
      "人民幣(CNY)\n",
      "美元(USD)\n",
      "澳幣(AUD)\n",
      "南非幣(ZAR)\n",
      "紐西蘭幣(NZD)\n",
      "歐元(EUR) \n",
      "港幣(HKD)\n",
      "日圓(JPY)\n",
      "墨西哥披索(MXN)\n",
      "加幣(CAD)\n",
      "瑞士法郎(CHF)\n",
      "英鎊(GBP) \n",
      "瑞典幣(SEK)\n",
      "新加坡幣(SGD)\n",
      "泰銖(THB)\n",
      "AUD\n"
     ]
    }
   ],
   "source": [
    "print(\"Insert currency:\\nSelect list as follow\\n人民幣(CNY)\\n美元(USD)\\n澳幣(AUD)\\n南非幣(ZAR)\\n紐西蘭幣(NZD)\\n歐元(EUR) \\\n",
    "\\n港幣(HKD)\\n日圓(JPY)\\n墨西哥披索(MXN)\\n加幣(CAD)\\n瑞士法郎(CHF)\\n英鎊(GBP) \\\n",
    "\\n瑞典幣(SEK)\\n新加坡幣(SGD)\\n泰銖(THB)\")\n",
    "currency = str.upper(input())"
   ]
  },
  {
   "cell_type": "markdown",
   "metadata": {},
   "source": [
    "### 即期或現鈔\n",
    "\n",
    "* 即期輸入:spot\n",
    "* 現鈔輸入:cash\n"
   ]
  },
  {
   "cell_type": "code",
   "execution_count": 5,
   "metadata": {
    "scrolled": true
   },
   "outputs": [
    {
     "name": "stdout",
     "output_type": "stream",
     "text": [
      "Insert spot or cash:\n",
      "SPOT\n"
     ]
    }
   ],
   "source": [
    "print(\"Insert spot or cash:\")\n",
    "rate_type = str.lower(input())"
   ]
  },
  {
   "cell_type": "markdown",
   "metadata": {},
   "source": [
    "### 時間\n",
    "\n",
    "* 當日輸入:Now\n",
    "* 3個月輸入:3Months\n",
    "* 6個月輸入:6Months\n",
    "* 1年輸入:1Year\n"
   ]
  },
  {
   "cell_type": "code",
   "execution_count": 6,
   "metadata": {},
   "outputs": [
    {
     "name": "stdout",
     "output_type": "stream",
     "text": [
      "Insert duration:\n",
      "Select list as follow\n",
      "當日輸入:Now\n",
      "3個月輸入:3Months\n",
      "6個月輸入:6Months\n",
      "1年輸入:1Year\n",
      "6MONTHS\n"
     ]
    }
   ],
   "source": [
    "print(\"Insert duration:\\nSelect list as follow\\n當日輸入:Now\\\n",
    "\\n3個月輸入:3Months\\\n",
    "\\n6個月輸入:6Months\\\n",
    "\\n1年輸入:1Year\")\n",
    "duration = str.upper(input())"
   ]
  },
  {
   "cell_type": "code",
   "execution_count": 7,
   "metadata": {},
   "outputs": [],
   "source": [
    "if rate_type == \"spot\":\n",
    "     type_html =\"/html/body/form/div[7]/div[3]/div[4]/div/div[1]/div[1]/div/img[2]\"\n",
    "elif rate_type == \"cash\":\n",
    "     type_html =\"/html/body/form/div[7]/div[3]/div[4]/div/div[1]/div[1]/div/img[1]\""
   ]
  },
  {
   "cell_type": "code",
   "execution_count": 8,
   "metadata": {},
   "outputs": [],
   "source": [
    "if duration == \"NOW\":\n",
    "     duration_html =\"/html/body/form/div[7]/div[3]/div[4]/div/div[1]/div[2]/div[1]/img[1]\"\n",
    "elif duration == \"3MONTHS\":\n",
    "     duration_html =\"/html/body/form/div[7]/div[3]/div[4]/div/div[1]/div[2]/div[1]/img[2]\"\n",
    "elif duration == \"6MONTHS\":\n",
    "     duration_html =\"/html/body/form/div[7]/div[3]/div[4]/div/div[1]/div[2]/div[1]/img[3]\"\n",
    "elif duration == \"1YEAR\":\n",
    "     duration_html =\"/html/body/form/div[7]/div[3]/div[4]/div/div[1]/div[2]/div[1]/img[4]\""
   ]
  },
  {
   "cell_type": "code",
   "execution_count": 9,
   "metadata": {},
   "outputs": [],
   "source": [
    "# Data page\n",
    "driver.get(\"https://www.esunbank.com.tw/bank/personal/deposit/rate/forex/exchange-rate-chart\")\n",
    "\n",
    "time.sleep(1)"
   ]
  },
  {
   "cell_type": "code",
   "execution_count": 10,
   "metadata": {},
   "outputs": [],
   "source": [
    "# Select the currency \n",
    "select_currency_arrow = driver.find_element_by_xpath(\"/html/body/form/div[7]/div[3]/div[4]/div/div[1]/div[1]/ul/li/span\")\n",
    "select_currency_arrow.click()\n",
    "\n",
    "# Select the currency\n",
    "select_currency = driver.find_elements_by_css_selector(\".transformSelectDropdown li span\")\n",
    "for i in select_currency:\n",
    "    if currency in i.text:\n",
    "        i.click()\n",
    "        break\n",
    "\n",
    "time.sleep(1)"
   ]
  },
  {
   "cell_type": "code",
   "execution_count": 11,
   "metadata": {},
   "outputs": [],
   "source": [
    "# Select Spot or Cash\n",
    "currency_type = driver.find_element_by_xpath(type_html)\n",
    "currency_type.click()\n",
    "\n",
    "time.sleep(1)"
   ]
  },
  {
   "cell_type": "code",
   "execution_count": 12,
   "metadata": {},
   "outputs": [],
   "source": [
    "# Select the duration\n",
    "currency_duration = driver.find_element_by_xpath(duration_html)\n",
    "currency_duration.click()\n",
    "\n",
    "time.sleep(1)"
   ]
  },
  {
   "cell_type": "code",
   "execution_count": 13,
   "metadata": {},
   "outputs": [],
   "source": [
    "# Select data type\n",
    "data_type = driver.find_element_by_xpath(\"/html/body/form/div[7]/div[3]/div[4]/div/div[1]/div[3]/div/label[2]\")\n",
    "data_type.click()\n",
    "\n",
    "time.sleep(1)"
   ]
  },
  {
   "cell_type": "code",
   "execution_count": 14,
   "metadata": {},
   "outputs": [],
   "source": [
    "# Click search button\n",
    "search_button = driver.find_element_by_xpath('/html/body/form/div[7]/div[3]/div[4]/div/div[1]/div[4]/a')\n",
    "search_button.click()\n",
    "\n",
    "time.sleep(1)"
   ]
  },
  {
   "cell_type": "code",
   "execution_count": 15,
   "metadata": {},
   "outputs": [],
   "source": [
    "df = pd.DataFrame(columns=[\"Date\", \"Bid_Rate\", \"Offer_Rate\"])\n",
    "pages = True\n",
    "\n",
    "while pages:\n",
    "    items = driver.find_elements_by_css_selector(\"#inteTable tbody tr\")\n",
    "\n",
    "    for item in items:\n",
    "        tds = item.find_elements_by_css_selector(\"td\")\n",
    "\n",
    "        if tds[0].get_attribute(\"class\") != \"itemTtitle\":\n",
    "            continue\n",
    "\n",
    "        df = df.append({\n",
    "                    \"Date\": tds[0].text,\n",
    "                    \"Bid_Rate\":  tds[1].text,\n",
    "                    \"Offer_Rate\":  tds[2].text\n",
    "                    }, ignore_index=True)\n",
    "\n",
    "    nextBtn = driver.find_element_by_css_selector(\".pageNumberBlock .down\")\n",
    "    if \"active\" in nextBtn.get_attribute(\"class\"):\n",
    "        nextBtn.click()\n",
    "    else:\n",
    "        pages = False\n",
    "\n",
    "time.sleep(4)"
   ]
  },
  {
   "cell_type": "code",
   "execution_count": 16,
   "metadata": {},
   "outputs": [],
   "source": [
    "# Close the browser\n",
    "driver.quit()"
   ]
  },
  {
   "cell_type": "code",
   "execution_count": 20,
   "metadata": {},
   "outputs": [],
   "source": [
    "df[\"Offer_Rate\"] = df[\"Offer_Rate\"].astype(float)\n",
    "df[\"Bid_Rate\"] = df[\"Bid_Rate\"].astype(float)"
   ]
  },
  {
   "cell_type": "code",
   "execution_count": 21,
   "metadata": {},
   "outputs": [],
   "source": [
    "df_min = df[df.Offer_Rate == df.Offer_Rate.min()]"
   ]
  },
  {
   "cell_type": "code",
   "execution_count": 22,
   "metadata": {
    "scrolled": false
   },
   "outputs": [
    {
     "name": "stdout",
     "output_type": "stream",
     "text": [
      "           Date  Bid_Rate  Offer_Rate\n",
      "0    2019-10-18     20.85       21.05\n",
      "1    2019-10-21     20.89       21.09\n",
      "2    2019-10-22     20.89       21.09\n",
      "3    2019-10-23     20.85       21.05\n",
      "4    2019-10-24     20.76       20.96\n",
      "5    2019-10-25     20.79       20.99\n",
      "6    2019-10-28     20.77       20.97\n",
      "7    2019-10-29     20.85       21.05\n",
      "8    2019-10-30     20.81       21.01\n",
      "9    2019-10-31     20.90       21.10\n",
      "10   2019-11-01     20.98       21.18\n",
      "11   2019-11-04     20.89       21.09\n",
      "12   2019-11-05     20.85       21.05\n",
      "13   2019-11-06     20.84       21.04\n",
      "14   2019-11-07     20.86       21.06\n",
      "15   2019-11-08     20.73       20.93\n",
      "16   2019-11-11     20.74       20.94\n",
      "17   2019-11-12     20.70       20.90\n",
      "18   2019-11-13     20.73       20.93\n",
      "19   2019-11-14     20.61       20.81\n",
      "20   2019-11-15     20.66       20.86\n",
      "21   2019-11-18     20.64       20.84\n",
      "22   2019-11-19     20.72       20.92\n",
      "23   2019-11-20     20.69       20.89\n",
      "24   2019-11-21     20.66       20.86\n",
      "25   2019-11-22     20.61       20.81\n",
      "26   2019-11-25     20.58       20.78\n",
      "27   2019-11-26     20.56       20.76\n",
      "28   2019-11-27     20.58       20.78\n",
      "29   2019-11-28     20.55       20.75\n",
      "30   2019-11-29     20.53       20.73\n",
      "31   2019-12-02     20.62       20.82\n",
      "32   2019-12-03     20.77       20.97\n",
      "33   2019-12-04     20.78       20.98\n",
      "34   2019-12-05     20.70       20.90\n",
      "35   2019-12-06     20.73       20.93\n",
      "36   2019-12-09     20.71       20.91\n",
      "37   2019-12-10     20.66       20.86\n",
      "38   2019-12-11     20.76       20.96\n",
      "39   2019-12-12     20.83       21.03\n",
      "40   2019-12-13     20.77       20.97\n",
      "41   2019-12-16     20.72       20.92\n",
      "42   2019-12-17     20.55       20.75\n",
      "43   2019-12-18     20.60       20.80\n",
      "44   2019-12-19     20.62       20.82\n",
      "45   2019-12-20     20.71       20.91\n",
      "46   2019-12-23     20.73       20.93\n",
      "47   2019-12-24     20.76       20.96\n",
      "48   2019-12-25     20.73       20.93\n",
      "49   2019-12-26     20.78       20.98\n",
      "50   2019-12-27     20.86       21.06\n",
      "51   2019-12-30     20.91       21.11\n",
      "52   2019-12-31     20.91       21.11\n",
      "53   2020-01-02     20.93       21.13\n",
      "54   2020-01-03     20.77       20.97\n",
      "55   2020-01-06     20.74       20.94\n",
      "56   2020-01-07     20.55       20.75\n",
      "57   2020-01-08     20.51       20.71\n",
      "58   2020-01-09     20.48       20.68\n",
      "59   2020-01-10     20.57       20.77\n",
      "60   2020-01-13     20.56       20.76\n",
      "61   2020-01-14     20.55       20.75\n",
      "62   2020-01-15     20.52       20.72\n",
      "63   2020-01-16     20.58       20.78\n",
      "64   2020-01-17     20.51       20.71\n",
      "65   2020-01-20     20.44       20.64\n",
      "66   2020-01-21     20.50       20.70\n",
      "67   2020-01-22     20.45       20.65\n",
      "68   2020-01-30     20.21       20.41\n",
      "69   2020-01-31     20.14       20.34\n",
      "70   2020-02-03     20.20       20.40\n",
      "71   2020-02-04     20.19       20.39\n",
      "72   2020-02-05     20.24       20.44\n",
      "73   2020-02-06     20.15       20.35\n",
      "74   2020-02-07     19.99       20.19\n",
      "75   2020-02-10     19.99       20.19\n",
      "76   2020-02-11     20.11       20.31\n",
      "77   2020-02-12     20.12       20.32\n",
      "78   2020-02-13     20.11       20.31\n",
      "79   2020-02-14     20.06       20.26\n",
      "80   2020-02-15     20.05       20.25\n",
      "81   2020-02-17     20.07       20.27\n",
      "82   2020-02-18     20.06       20.26\n",
      "83   2020-02-19     20.01       20.21\n",
      "84   2020-02-20     19.96       20.16\n",
      "85   2020-02-21     20.01       20.21\n",
      "86   2020-02-24     20.03       20.23\n",
      "87   2020-02-25     19.92       20.12\n",
      "88   2020-02-26     19.85       20.05\n",
      "89   2020-02-27     19.81       20.01\n",
      "90   2020-03-02     19.59       19.79\n",
      "91   2020-03-03     19.68       19.88\n",
      "92   2020-03-04     19.74       19.94\n",
      "93   2020-03-05     19.65       19.85\n",
      "94   2020-03-06     19.80       20.00\n",
      "95   2020-03-09     19.95       20.15\n",
      "96   2020-03-10     19.48       19.68\n",
      "97   2020-03-11     19.53       19.73\n",
      "98   2020-03-12     18.95       19.15\n",
      "99   2020-03-13     18.83       19.03\n",
      "100  2020-03-16     18.37       18.57\n",
      "101  2020-03-17     18.01       18.21\n",
      "102  2020-03-18     17.63       17.83\n",
      "103  2020-03-19     17.73       17.93\n",
      "104  2020-03-20     17.69       17.89\n",
      "105  2020-03-23     17.57       17.77\n",
      "106  2020-03-24     17.89       18.09\n",
      "107  2020-03-25     17.95       18.15\n",
      "108  2020-03-26     18.15       18.35\n",
      "109  2020-03-27     18.24       18.44\n",
      "110  2020-03-30     18.49       18.69\n",
      "111  2020-03-31     18.41       18.61\n",
      "112  2020-04-01     18.43       18.63\n",
      "113  2020-04-06     18.24       18.44\n",
      "114  2020-04-07     18.50       18.70\n",
      "115  2020-04-08     18.60       18.80\n",
      "116  2020-04-09     18.89       19.09\n",
      "117  2020-04-10     18.99       19.19\n",
      "118  2020-04-13     19.07       19.27\n",
      "119  2020-04-14     19.19       19.39\n",
      "120  2020-04-15     18.93       19.13\n",
      "121  2020-04-16     18.87       19.07\n",
      "122  2020-04-17     19.03       19.23\n",
      "\n",
      "Bid rate average in 6months : 20.06\n",
      "Offer rate average in 6months : 20.26\n",
      "\n",
      "The lowest price :\n",
      "       Date  Bid_Rate  Offer_Rate\n",
      " 2020-03-23     17.57       17.77\n",
      "\n"
     ]
    }
   ],
   "source": [
    "print(df)\n",
    "print(\"\")\n",
    "print('Bid rate average in {} : {}'.format(str.lower(duration),round(df[\"Bid_Rate\"].mean(),2)))\n",
    "print('Offer rate average in {} : {}'.format(str.lower(duration),round(df[\"Offer_Rate\"].mean(),2)))\n",
    "print(\"\")\n",
    "print(\"The lowest price :\")\n",
    "print(df_min.to_string(index=False))\n",
    "print(\"\")"
   ]
  },
  {
   "cell_type": "code",
   "execution_count": null,
   "metadata": {},
   "outputs": [],
   "source": []
  }
 ],
 "metadata": {
  "kernelspec": {
   "display_name": "venv",
   "language": "python",
   "name": "venv"
  },
  "language_info": {
   "codemirror_mode": {
    "name": "ipython",
    "version": 3
   },
   "file_extension": ".py",
   "mimetype": "text/x-python",
   "name": "python",
   "nbconvert_exporter": "python",
   "pygments_lexer": "ipython3",
   "version": "3.7.7"
  }
 },
 "nbformat": 4,
 "nbformat_minor": 4
}
